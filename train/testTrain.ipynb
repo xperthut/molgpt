{
 "cells": [
  {
   "cell_type": "raw",
   "id": "2258b371-7100-4223-876f-ea54c82500b1",
   "metadata": {
    "tags": []
   },
   "source": [
    "!pip install --quiet -U --upgrade wandb"
   ]
  },
  {
   "cell_type": "code",
   "execution_count": 1,
   "id": "4258679b-c18c-49b8-bae3-0d04247e050d",
   "metadata": {
    "tags": []
   },
   "outputs": [
    {
     "ename": "SyntaxError",
     "evalue": "invalid syntax (3566904167.py, line 11)",
     "output_type": "error",
     "traceback": [
      "\u001b[0;36m  Cell \u001b[0;32mIn[1], line 11\u001b[0;36m\u001b[0m\n\u001b[0;31m    from torch.amp import\u001b[0m\n\u001b[0m                          ^\u001b[0m\n\u001b[0;31mSyntaxError\u001b[0m\u001b[0;31m:\u001b[0m invalid syntax\n"
     ]
    }
   ],
   "source": [
    "import pandas as pd\n",
    "import argparse\n",
    "import numpy as np\n",
    "import wandb\n",
    "\n",
    "import torch\n",
    "import torch.nn as nn\n",
    "from torch.utils.data import DataLoader\n",
    "from torch.nn import functional as F\n",
    "from torch.cuda.amp import GradScaler\n",
    "from torch.cpu.amp import GradScaler\n",
    "\n",
    "from model import GPT, GPTConfig\n",
    "from trainer import Trainer, TrainerConfig\n",
    "from dataset import SmileDataset\n",
    "from utils import SmilesEnumerator, set_seed\n",
    "\n",
    "import math\n",
    "import re"
   ]
  },
  {
   "cell_type": "code",
   "execution_count": null,
   "id": "be01d268-5dfe-4548-b575-1de0e13bc525",
   "metadata": {},
   "outputs": [],
   "source": [
    "torch.amp"
   ]
  }
 ],
 "metadata": {
  "kernelspec": {
   "display_name": "Python 3.11 (pytorch)",
   "language": "python",
   "name": "pytorch"
  },
  "language_info": {
   "codemirror_mode": {
    "name": "ipython",
    "version": 3
   },
   "file_extension": ".py",
   "mimetype": "text/x-python",
   "name": "python",
   "nbconvert_exporter": "python",
   "pygments_lexer": "ipython3",
   "version": "3.11.4"
  }
 },
 "nbformat": 4,
 "nbformat_minor": 5
}
